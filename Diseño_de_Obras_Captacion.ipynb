{
  "nbformat": 4,
  "nbformat_minor": 0,
  "metadata": {
    "colab": {
      "provenance": [],
      "authorship_tag": "ABX9TyOw3hxto1+N6osW1MzwZU4G",
      "include_colab_link": true
    },
    "kernelspec": {
      "name": "python3",
      "display_name": "Python 3"
    },
    "language_info": {
      "name": "python"
    }
  },
  "cells": [
    {
      "cell_type": "markdown",
      "metadata": {
        "id": "view-in-github",
        "colab_type": "text"
      },
      "source": [
        "<a href=\"https://colab.research.google.com/github/Xboster-eliel/alcantarillado/blob/main/Dise%C3%B1o_de_Obras_Captacion.ipynb\" target=\"_parent\"><img src=\"https://colab.research.google.com/assets/colab-badge.svg\" alt=\"Open In Colab\"/></a>"
      ]
    },
    {
      "cell_type": "markdown",
      "source": [
        "# Diseño de la bocatoma de fondo"
      ],
      "metadata": {
        "id": "NIRZ26Vbg4Nf"
      }
    },
    {
      "cell_type": "markdown",
      "source": [
        "## Diseño de la presa"
      ],
      "metadata": {
        "id": "bLypdUPVac3Z"
      }
    },
    {
      "cell_type": "markdown",
      "source": [
        "- SI La Presa y Garganta de la bocatoma se diseñan como un vertedero rectangular con doble contraccion. $$Q = 1.84*L*H^{1.5}$$\n",
        "\n",
        "- SI La altura de la lamina de agua $f(Q-Diseño,maximo y minimo del rio)$ $$H=(\\frac{Q}{1.84*L})^(2/3)$$\n",
        "\n",
        "- SI Existen contracciones laterales $$L' = L - 0.1*n*H$$\n",
        "  - n= numero contracciones\n",
        "\n",
        "- SI La velocidad que pasa por la regilla $$Vr = \\frac{Q}{L'*H}$$\n",
        "\n",
        "- SI $0.3 \\frac{m}{s} \\leq Vr \\leq 3 \\frac{m}{s}$ se aplica la ecuacion del chorro\n",
        "\n"
      ],
      "metadata": {
        "id": "F2ZfVGImg3wz"
      }
    },
    {
      "cell_type": "markdown",
      "source": [
        "## Diseño de Regilla"
      ],
      "metadata": {
        "id": "fPZ3raF6b0jR"
      }
    },
    {
      "cell_type": "markdown",
      "source": [
        "- SI se usan barrotes en la direccion del flujo $$A_{neta} = a*B*N$$ $$A_{total} = (a+b)*B*N$$\n",
        "  - Aneta = area neta de la regilla (m^{2})\n",
        "  - a = separacion borde a borde entre barrotes (m)\n",
        "  - N = numero de orificios entre barrotes\n",
        "  - b = Diametro de cada barrote\n",
        "$$A_{total} = B*Lr$$\n",
        "$$A_{neta} = \\frac{a}{a+b}*A_{total}$$\n",
        "$$ Q = k*A_{neta}*Vb$$\n",
        "\n",
        "  - Lr = longitud de la regilla\n",
        "  - B = ancho de la regilla\n",
        "  - k = 0.9 : para flujo paralelo a la seccion\n",
        "  - $Vb \\leq 0.2$ : velocidad entre barrotes\n",
        "\n",
        "- Despejando:\n",
        "$$A_{neta} = \\frac{Q}{k*Vb}$$\n",
        "\n",
        "$$Lr = \\frac{A_{neta}*(a+b)}{a*B}$$\n",
        "\n",
        "$$A_{total} = Lr*B$$\n",
        "\n",
        "$$N = \\frac{A_{total}}{B*(a+b)}$$\n",
        "\n",
        "$$Lr_{real} = (a+b)*N$$"
      ],
      "metadata": {
        "id": "fixbtS37b4Cd"
      }
    },
    {
      "cell_type": "markdown",
      "source": [
        "## Diseño nivel del canal de aduccion"
      ],
      "metadata": {
        "id": "dqSc9GIIlRsd"
      }
    },
    {
      "cell_type": "markdown",
      "source": [
        "- SI todo el volumen de agua se capta al inicio del canal, el LV-aguas arriba\n",
        "$$ho = [2*he^2+(he-\\frac{i*lc}{3})^2]^{1/2} - \\frac{2*i*lc}{3}$$\n",
        "\n",
        "- SI la entrega del agua a la camara de recoleccion es en descarga libre\n",
        "$$he = hc$$\n",
        "$$hc = (\\frac{Q^2}{g*B^2})^{1/3}$$\n",
        "\n",
        "  - ho = profundidad aguas arriba (m)\n",
        "  - he = profundidad aguas abajo (m)\n",
        "  - hc = profundidad critica (m)\n",
        "  - i = pendiente del fondo del canal (m)\n",
        "  - g = 9.81 :aceleracion de la gravedad\n",
        "  - lc = longitud del canal (m) : longitud de regilla mas espesor del muro\n",
        "  - Ho = BL + ho\n",
        "  - He = BL + i*lc + ho-he + he\n",
        "\n",
        "- borde libre = BL = 0.15\n",
        "\n",
        "- velocidad de entrega = $0.3 \\leq Ve \\leq 3$ m/s\n",
        "\n",
        "  - PARA DETERMINAR EL ANCHO DEL CANAL DE ADUCCION $$Xs = 0.36*Vr^{2/3}+0.60*H^{4/7}$$ $$Xi = 0.18*Vr^{4/7} + 0.74*H^{3/4}$$ $$B = Xs + 0.10 $$\n",
        "    - Xs = alcance filo superior (m)\n",
        "    - Xi = alcance filo inferior (m)\n",
        "    - Vr = velocidad del rio\n",
        "    - H = profundidad de la lamina de agu sobre la presa (m)\n",
        "    - B= ancho del canal de aduccion (m)\n",
        "\n"
      ],
      "metadata": {
        "id": "yMiIWw3tlXx_"
      }
    },
    {
      "cell_type": "markdown",
      "source": [
        "## Diseño de la camara de recoleccion"
      ],
      "metadata": {
        "id": "EVy_2kJEyw8V"
      }
    },
    {
      "cell_type": "markdown",
      "source": [
        "- PARA DETERMINAR EL LARGO DEL CANAL DE ADUCCION $$Xs = 0.36*Ve^{2/3}+0.60*h^{4/7}$$ $$Xi = 0.18*Ve^{4/7} + 0.74*h^{3/4}$$ $$L = Xs + 0.30 $$\n",
        "    - Xs = alcance filo superior (m)\n",
        "    - Xi = alcance filo inferior (m)\n",
        "    - Vr = velocidad del rio\n",
        "    - h = profundidad de la lamina de agua sobre la presa (m)\n",
        "    - L= ancho del canal de aduccion (m)"
      ],
      "metadata": {
        "id": "BUYatQwVzHbg"
      }
    },
    {
      "cell_type": "markdown",
      "source": [
        "## Desague de caudl de excesos"
      ],
      "metadata": {
        "id": "jKreoqjY0PjL"
      }
    },
    {
      "cell_type": "markdown",
      "source": [],
      "metadata": {
        "id": "g4rqQT2-0WRO"
      }
    },
    {
      "cell_type": "markdown",
      "source": [
        "# Captacion Agua subterranea"
      ],
      "metadata": {
        "id": "0-kAMSzJai1N"
      }
    },
    {
      "cell_type": "markdown",
      "source": [
        "##"
      ],
      "metadata": {
        "id": "920lupDrhx9m"
      }
    },
    {
      "cell_type": "code",
      "source": [
        "%config IPCompleter.greedy=True\n",
        "from IPython.display import Image\n",
        "\n",
        "import pandas as pd\n",
        "import numpy as np\n",
        "import math\n",
        "import xlrd\n",
        "import openpyxl\n",
        "import seaborn as sb\n",
        "import matplotlib.pyplot as plt\n",
        "from matplotlib.ticker import PercentFormatter"
      ],
      "metadata": {
        "id": "TIY_cY22sCX_"
      },
      "execution_count": null,
      "outputs": []
    },
    {
      "cell_type": "code",
      "source": [
        "def round_up(n):\n",
        "  return math.ceil(n)\n",
        "\n",
        "def round_up(n, decimals=0):\n",
        "  multiplier = 10 ** decimals\n",
        "  return math.ceil(n * multiplier) / multiplier\n",
        "\n",
        "print(round_up(0.62, 1))\n",
        "print(round_up(0.62))\n",
        "\n",
        "g= 9.81    #m/s**2    gravedad"
      ],
      "metadata": {
        "colab": {
          "base_uri": "https://localhost:8080/"
        },
        "id": "fEZ-3a_psA3v",
        "outputId": "e92e40a2-c6e8-4895-9341-5fa704baeb7e"
      },
      "execution_count": null,
      "outputs": [
        {
          "output_type": "stream",
          "name": "stdout",
          "text": [
            "0.7\n",
            "1.0\n"
          ]
        }
      ]
    },
    {
      "cell_type": "code",
      "source": [
        "def calcular_diseno_presa():\n",
        "    QMD = 29.6  # l/s Cuadal maximo diario\n",
        "    QMD = QMD / 1000  # m**3/s\n",
        "    QmD = 22.7  # l/s Caudal medio diario\n",
        "    QmD = QmD / 1000  # m**3/s\n",
        "    Q = 31.8  # l/s Caudal de diseño\n",
        "    Q = Q / 1000  # m**3/s\n",
        "    Qrio = [0.25, 0.7, 2]  # m**3/s Caudal del rio [minimo,medio,maximo]\n",
        "    QMrio = Qrio[2]  # m**3/s\n",
        "\n",
        "    ancho_rio = 3  # m\n",
        "    ancho_presa = 2  # m\n",
        "\n",
        "    perdida_aduc = 1.1  # l/s\n",
        "\n",
        "    regilla = 0.0191  # m -> 3/4\"\n",
        "    l = 2  # m longitud de la lamina de agua producto de las contracciones (perfil frente)\n",
        "    n = 2  # Numero de contracciones laterales (perfil frente)\n",
        "\n",
        "    # SUPOSICIONES\n",
        "    BL = 0.30  # m Borde Libre presa\n",
        "    bl = 0.1  # m Borde Libre Recomendado\n",
        "\n",
        "    # REGILLA\n",
        "    k = 0.9  # para flujo paralelo al pasar por los barrotes (sin interrumpcion)\n",
        "    a = 0.05  # m Separacion entre barrotes\n",
        "    b = regilla  #\n",
        "\n",
        "    # LV - CANAL de aduccion\n",
        "    i = 3  # % pendiente\n",
        "    i = i / 100\n",
        "\n",
        "    # REBOSE\n",
        "    cd = 0.3  # coeficiente de orificio\n",
        "\n",
        "    vb = 0  # m/s Velociad entre barrotes\n",
        "\n",
        "    if vb <= 0.2:\n",
        "        vb = 0.2\n",
        "    else:\n",
        "        vb = vb\n",
        "\n",
        "    # DISEÑO DE LA PRESA\n",
        "    hmuro = ((QMrio / (1.84 * l)) ** (2 / 3))  # m Altura de muro sin borde libre\n",
        "    hmuro_bl = round(hmuro + BL)  # m Para el Qmax que pueda tener el rio\n",
        "\n",
        "    hr = ((Q) / (1.84 * l)) ** (2 / 3)  # m altura de la lamina de agua sobre la presa ; Altura de Rio/Diseño\n",
        "\n",
        "    l_prima = l - 0.1 * n * hr  # m\n",
        "\n",
        "    vr = Q / (l_prima * hr)  # m/2  Velocidad del Rio/Diseño\n",
        "\n",
        "    xs = 0.36 * vr ** (2 / 3) + 0.6 * hr ** (4 / 7)  # m alcance filo superior\n",
        "    xi = 0.18 * vr ** (4 / 7) + 0.74 * hr ** (3 / 4)  # m alcance filo inferior\n",
        "    B = xs + bl  # m ancho Canal de aduccion\n",
        "    B = round(B, 1)\n",
        "\n",
        "    result = f\"\\n hmuro={round(hmuro_bl, 2)} [m] | hr={round(hr, 3)} [m] | L'={round(l_prima)} [m]  | vr={round(vr, 2)} [m/s] | xs={round(xs, 2)} [m] | Ancho_Canal_aduccion={B} [m] \"\n",
        "\n",
        "    if 0.3 < vr < 3:\n",
        "        result += \"\\n'Estas bien', la velocidad de diseño es eficiente\"\n",
        "    else:\n",
        "        result += \"\\n'Estas mal', la velocidad de diseño es ineficiente\"\n",
        "\n",
        "    # REGILLA\n",
        "    # VIA NETA => q= k*a_neta*bv\n",
        "\n",
        "    area_neta = Q / (k * vb)  # m**2 area neta de la regilla\n",
        "    area_neta = round(area_neta, 2)\n",
        "    lr = (area_neta * (a + b)) / (a * B)  # m   Longitud de la regilla\n",
        "    lr = round_up(lr, 1)\n",
        "\n",
        "    area_total = lr * B  # m**2  area bruta de la regilla\n",
        "    area_total = round_up(area_total, 2)\n",
        "    N = area_total / (B * (a + b))  # Cantidad de separacion entre barras\n",
        "    N = int(round_up(N))\n",
        "    lr_real = (a + b) * N  # m\n",
        "    lr_real = round_up(lr_real, 2)\n",
        "\n",
        "    result += f\"\\n area_neta={area_neta} [m**2] | Longitud_regilla={lr} [m] | area_total={area_total} [m**2] | Longitud_real={lr_real} [m] | N={N} [-]\"\n",
        "\n",
        "    if lr >= 0.7:\n",
        "        result += 'longitud de la regilla valida'\n",
        "        lr = lr\n",
        "    else:\n",
        "        result += 'longitud de la regilla invalida'\n",
        "        lr = 0.7\n",
        "\n",
        "    if B >= 0.4:\n",
        "        result += 'ancho de la regilla valida'\n",
        "        B = B\n",
        "    else:\n",
        "        result += 'ancho de la regilla invalida'\n",
        "        B = 0.7\n",
        "\n",
        "    # NIVEL DEL CANAL DE ADUCCION\n",
        "    BL_p = 0.15  # m\n",
        "\n",
        "    lc = lr_real + i  # m Longitud de regilla y muro\n",
        "\n",
        "    he = (Q ** 2 / (g * B ** 2)) ** (1 / 3)\n",
        "    he = round_up(he, 3)  # Fin    #m Profundidad aguas abajo\n",
        "\n",
        "    ho = ((2 * he ** 2) + (he - (i * lc) / 3) ** 2) ** (1 / 2) - ((2 * i * lc) / 3)  # Inicio #m Profundidad aguas arriba\n",
        "    ho = round_up(ho, 3)\n",
        "\n",
        "    Ho = ho + BL_p\n",
        "    Ho = round(Ho, 3)\n",
        "\n",
        "    ve = Q / (he * B)  # m/s Velocidad aguas abajo\n",
        "    ve = round_up(ve, 2)\n",
        "\n",
        "    # CAMARA DE RECOLECCION\n",
        "\n",
        "    xs= 0.36*ve**(2/3)+0.6*he**(4/7)      #m\n",
        "    xs= round(xs,2)\n",
        "    xi= 0.18*ve**(4/7)+0.74*he**(3/4)     #m\n",
        "    xi= round(xi,2)\n",
        "    L= round_up(xs+BL,1)                 # longitud del vertedero\n",
        "\n",
        "    result += f\"\\n xs={xs} [m] | xi={xi} [m] | L={L} [m] \"\n",
        "\n",
        "    # REBOSE\n",
        "    area_neta_real = a * B * N  # m**2  Area neta de Diseño\n",
        "    area_neta_real = round(area_neta_real, 2)\n",
        "\n",
        "    Qcap = cd * area_neta_real * (2 * g * hmuro) ** 0.5  # m**3/s  Caudal captado\n",
        "    Qcap = round(Qcap, 2)\n",
        "\n",
        "    Qexc = Qcap - Q  # m**3/s   Caudal excesos\n",
        "    Qexc = round_up(Qexc, 2)\n",
        "\n",
        "    result += f\"\\n area_neta_real={area_neta_real} [m**2] |Caudal captado => Qcap={Qcap} [m**3/s] |Caudal excesos => Qexc={Qexc} [m**3/s] \"\n",
        "\n",
        "    # CANAL DE EXCESO\n",
        "    # Suponiendo\n",
        "    Long_vetedero = 1.5  # m longirud del vertedero por limpieza del sitio por personas\n",
        "\n",
        "    hv = (Qexc / (1.84 * Long_vetedero)) ** (2 / 3)  # m Altura del Vertedero\n",
        "    hv = round_up(hv, 2)\n",
        "\n",
        "    vv = (Qexc / (Long_vetedero * hv))\n",
        "    vv = round_up(vv, 2)\n",
        "    if 0.3 < vv < 3.0:\n",
        "        result += \"'Estas bien', la velocidad del vertedero es eficiente \\n\"\n",
        "\n",
        "    xs = 0.36 * vv ** (2 / 3) + 0.6 * hv ** (4 / 7)  # m\n",
        "    xs = round_up(xs, 2)\n",
        "\n",
        "    xi = 0.18 * vv ** (4 / 7) + 0.74 * hv ** (3 / 4)  # m\n",
        "    xi = round_up(xi, 2)\n",
        "    B = round_up(xs + bl, 2)  # longitud del vertedero\n",
        "\n",
        "    result += f\"\\nxs={xs} [m] |xi={xi} [m] |B={B} [m] | Altura del Vertedero => hv={hv} [m] |Velocidad del vertedero => vv={vv} [m/s] \"\n",
        "\n",
        "    return result\n",
        "\n",
        "\n",
        "# Para usar la función, simplemente llámala:\n",
        "resultado = calcular_diseno_presa()\n",
        "print(resultado)\n"
      ],
      "metadata": {
        "colab": {
          "base_uri": "https://localhost:8080/"
        },
        "id": "f9sgTXumr5wO",
        "outputId": "e8a940d3-f64c-4aaf-c31c-c0e47078d420"
      },
      "execution_count": null,
      "outputs": [
        {
          "output_type": "stream",
          "name": "stdout",
          "text": [
            "\n",
            " hmuro=1 [m] | hr=0.042 [m] | L'=2 [m]  | vr=0.38 [m/s] | xs=0.29 [m] | Ancho_Canal_aduccion=0.4 [m] \n",
            "'Estas bien', la velocidad de diseño es eficiente\n",
            " area_neta=0.18 [m**2] | Longitud_regilla=0.7 [m] | area_total=0.28 [m**2] | Longitud_real=0.77 [m] | N=11 [-]longitud de la regilla validaancho de la regilla valida\n",
            " xs=0.49 [m] | xi=0.29 [m] | L=0.8 [m] \n",
            " area_neta_real=0.22 [m**2] |Caudal captado => Qcap=0.24 [m**3/s] |Caudal excesos => Qexc=0.21 [m**3/s] 'Estas bien', la velocidad del vertedero es eficiente \n",
            "\n",
            "xs=0.54 [m] |xi=0.37 [m] |B=0.64 [m] | Altura del Vertedero => hv=0.18 [m] |Velocidad del vertedero => vv=0.78 [m/s] \n"
          ]
        }
      ]
    },
    {
      "cell_type": "code",
      "source": [
        "import math\n",
        "\n",
        "def calculate_design_parameters(QMD, QmD, Q, Qrio, ancho_rio, ancho_presa, perdida_aduc, regilla, l, n, BL, bl, k, a, b, i, cd, vb):\n",
        "    # Convert QMD to m^3/s\n",
        "    QMD = QMD / 1000\n",
        "\n",
        "    # Convert QmD to m^3/s\n",
        "    QmD = QmD / 1000\n",
        "\n",
        "    # Convert Q to m^3/s\n",
        "    Q = Q / 1000\n",
        "\n",
        "    # Calculate hmuro\n",
        "    hmuro = ((Qrio[2] / (1.84 * l)) ** (2 / 3))\n",
        "\n",
        "    # Calculate hmuro_bl\n",
        "    hmuro_bl = round(hmuro + BL, 2)\n",
        "\n",
        "    # Calculate hr\n",
        "    hr = ((Q) / (1.84 * l)) ** (2 / 3)\n",
        "\n",
        "    # Calculate l_prima\n",
        "    l_prima = l - 0.1 * n * hr\n",
        "\n",
        "    # Calculate vr\n",
        "    vr = Q / (l_prima * hr)\n",
        "\n",
        "    # Calculate xs\n",
        "    xs = 0.36 * vr ** (2 / 3) + 0.6 * hr ** (4 / 7)\n",
        "\n",
        "    # Calculate xi\n",
        "    xi = 0.18 * vr ** (4 / 7) + 0.74 * hr ** (3 / 4)\n",
        "\n",
        "    # Calculate B\n",
        "    B = xs + bl\n",
        "    B = round(B, 1)\n",
        "\n",
        "    # Check if velocity of design is efficient\n",
        "    if 0.3 < vr < 3:\n",
        "        velocity_status = \"'Estas bien', la velocidad de diseño es eficiente\"\n",
        "    else:\n",
        "        velocity_status = \"'Estas mal', la velocidad de diseño es ineficiente\"\n",
        "\n",
        "    # Calculate area_neta\n",
        "    area_neta = Q / (k * vb)\n",
        "    area_neta = round(area_neta, 2)\n",
        "\n",
        "    # Calculate lr\n",
        "    lr = (area_neta * (a + b)) / (a * B)\n",
        "    lr = math.ceil(lr * 10) / 10\n",
        "\n",
        "    # Calculate area_total\n",
        "    area_total = lr * B\n",
        "    area_total = math.ceil(area_total * 100) / 100\n",
        "\n",
        "    # Calculate N\n",
        "    N = area_total / (B * (a + b))\n",
        "    N = int(math.ceil(N))\n",
        "\n",
        "    # Calculate lr_real\n",
        "    lr_real = (a + b) * N\n",
        "    lr_real = math.ceil(lr_real * 100) / 100\n",
        "\n",
        "    # Check if length of the regilla is valid\n",
        "    if lr >= 0.7:\n",
        "        regilla_status = 'longitud de la regilla valida'\n",
        "    else:\n",
        "        regilla_status = 'longitud de la regilla invalida'\n",
        "        lr = 0.7\n",
        "\n",
        "    # Check if width of the regilla is valid\n",
        "    if B >= 0.4:\n",
        "        ancho_regilla_status = 'ancho de la regilla valida'\n",
        "    else:\n",
        "        ancho_regilla_status = 'ancho de la regilla invalida'\n",
        "        B = 0.7\n",
        "\n",
        "    # Calculate he\n",
        "    he = (Q ** 2 / (9.81 * B ** 2)) ** (1 / 3)\n",
        "    he = math.ceil(he * 1000) / 1000\n",
        "\n",
        "    # Calculate ho\n",
        "    ho = ((2 * he ** 2) + (he - (i * lr) / 3) ** 2) ** (1 / 2) - ((2 * i * lr) / 3)\n",
        "    ho = math.ceil(ho * 1000) / 1000\n",
        "\n",
        "    # Calculate Ho\n",
        "    Ho = ho + BL\n",
        "    Ho = round(Ho, 3)\n",
        "\n",
        "    # Calculate ve\n",
        "    ve = Q / (he * B)\n",
        "    ve = math.ceil(ve * 100) / 100\n",
        "\n",
        "    # Calculate xs\n",
        "    xs = 0.36 * ve ** (2 / 3) + 0.6 * he ** (4 / 7)\n",
        "    xs = math.ceil(xs * 100) / 100\n",
        "\n",
        "    # Calculate xi\n",
        "    xi = 0.18 * ve ** (4 / 7) + 0.74 * he ** (3 / 4)\n",
        "    xi = math.ceil(xi * 100) / 100\n",
        "\n",
        "    # Calculate L\n",
        "    L = xs + BL\n",
        "    L = math.ceil(L * 10) / 10\n",
        "\n",
        "    # Calculate area_neta_real\n",
        "    area_neta_real = a * B * N\n",
        "    area_neta_real = math.ceil(area_neta_real * 100) / 100\n",
        "\n",
        "    # Calculate Qcap\n",
        "    Qcap = cd * area_neta_real * (2 * 9.81 * hmuro) ** 0.5\n",
        "    Qcap = math.ceil(Qcap * 100) / 100\n",
        "\n",
        "    # Calculate Qexc\n",
        "    Qexc = Qcap - Q\n",
        "    Qexc = math.ceil(Qexc * 100) / 100\n",
        "\n",
        "    # Calculate hv\n",
        "    hv = (Qexc / (1.84 * Long_vetedero)) ** (2 / 3)\n",
        "    hv = math.ceil(hv * 100) / 100\n",
        "\n",
        "    # Calculate vv\n",
        "    vv = Qexc / (Long_vetedero * hv)\n",
        "    vv = math.ceil(vv * 100) / 100\n",
        "\n",
        "    # Check if velocity of the vertedero is efficient\n",
        "    if 0.3 < vv < 3.0:\n",
        "        vertedero_velocity_status = \"'Estas bien', la velocidad del vertedero es eficiente\"\n",
        "    else:\n",
        "        vertedero_velocity_status = \"'Estas mal', la velocidad del vertedero es ineficiente\"\n",
        "\n",
        "    # Calculate xs\n",
        "    xs = 0.36 * vv ** (2 / 3) + 0.6 * hv ** (4 / 7)\n",
        "    xs = math.ceil(xs * 100) / 100\n",
        "\n",
        "    # Calculate xi\n",
        "    xi = 0.18 * vv ** (4 / 7) + 0.74 * hv ** (3 / 4)\n",
        "    xi = math.ceil(xi * 100) / 100\n",
        "\n",
        "    # Calculate B\n",
        "    B = xs + bl\n",
        "    B = math.ceil(B * 100) / 100\n",
        "\n",
        "    return {\n",
        "        'hmuro': hmuro_bl,\n",
        "        'hr': hr,\n",
        "        'l_prima': l_prima,\n",
        "        'vr': vr,\n",
        "        'xs': xs,\n",
        "        'xi': xi,\n",
        "        'B': B,\n",
        "        'velocity_status': velocity_status,\n",
        "        'area_neta': area_neta,\n",
        "        'lr': lr,\n",
        "        'area_total': area_total,\n",
        "        'N': N,\n",
        "        'lr_real': lr_real,\n",
        "        'regilla_status': regilla_status,\n",
        "        'ancho_regilla_status': ancho_regilla_status,\n",
        "        'he': he,\n",
        "        'ho': ho,\n",
        "        'Ho': Ho,\n",
        "        've': ve,\n",
        "        'L': L,\n",
        "        'area_neta_real': area_neta_real,\n",
        "        'Qcap': Qcap,\n",
        "        'Qexc': Qexc,\n",
        "        'hv': hv,\n",
        "        'vv': vv,\n",
        "        'vertedero_velocity_status': vertedero_velocity_status,\n",
        "        'xs_vertedero': xs,\n",
        "        'xi_vertedero': xi,\n",
        "        'B_vertedero': B\n",
        "    }\n",
        "\n",
        "# Example usage\n",
        "QMD = 29.6\n",
        "QmD = 22.7\n",
        "Q = 31.8\n",
        "Qrio = [0.25, 0.7, 2]\n",
        "ancho_rio = 3\n",
        "ancho_presa = 2\n",
        "perdida_aduc = 1.1\n",
        "regilla = 0.0191\n",
        "l = 2\n",
        "n = 2\n",
        "BL = 0.3\n",
        "bl = 0.1\n",
        "k = 0.9\n",
        "a = 0.05\n",
        "b = regilla\n",
        "i = 3\n",
        "cd = 0.3\n",
        "vb = 0.2\n",
        "\n",
        "result = calculate_design_parameters(QMD, QmD, Q, Qrio, ancho_rio, ancho_presa, perdida_aduc, regilla, l, n, BL, bl, k, a, b, i, cd, vb)\n",
        "print(result)\n"
      ],
      "metadata": {
        "id": "bneP-mNAtdS5",
        "outputId": "aca2c69a-4996-43a7-ac37-2c3566492664",
        "colab": {
          "base_uri": "https://localhost:8080/",
          "height": 349
        }
      },
      "execution_count": null,
      "outputs": [
        {
          "output_type": "error",
          "ename": "NameError",
          "evalue": "ignored",
          "traceback": [
            "\u001b[0;31m---------------------------------------------------------------------------\u001b[0m",
            "\u001b[0;31mNameError\u001b[0m                                 Traceback (most recent call last)",
            "\u001b[0;32m<ipython-input-7-5c55b35c76c0>\u001b[0m in \u001b[0;36m<cell line: 196>\u001b[0;34m()\u001b[0m\n\u001b[1;32m    194\u001b[0m \u001b[0mvb\u001b[0m \u001b[0;34m=\u001b[0m \u001b[0;36m0.2\u001b[0m\u001b[0;34m\u001b[0m\u001b[0;34m\u001b[0m\u001b[0m\n\u001b[1;32m    195\u001b[0m \u001b[0;34m\u001b[0m\u001b[0m\n\u001b[0;32m--> 196\u001b[0;31m \u001b[0mresult\u001b[0m \u001b[0;34m=\u001b[0m \u001b[0mcalculate_design_parameters\u001b[0m\u001b[0;34m(\u001b[0m\u001b[0mQMD\u001b[0m\u001b[0;34m,\u001b[0m \u001b[0mQmD\u001b[0m\u001b[0;34m,\u001b[0m \u001b[0mQ\u001b[0m\u001b[0;34m,\u001b[0m \u001b[0mQrio\u001b[0m\u001b[0;34m,\u001b[0m \u001b[0mancho_rio\u001b[0m\u001b[0;34m,\u001b[0m \u001b[0mancho_presa\u001b[0m\u001b[0;34m,\u001b[0m \u001b[0mperdida_aduc\u001b[0m\u001b[0;34m,\u001b[0m \u001b[0mregilla\u001b[0m\u001b[0;34m,\u001b[0m \u001b[0ml\u001b[0m\u001b[0;34m,\u001b[0m \u001b[0mn\u001b[0m\u001b[0;34m,\u001b[0m \u001b[0mBL\u001b[0m\u001b[0;34m,\u001b[0m \u001b[0mbl\u001b[0m\u001b[0;34m,\u001b[0m \u001b[0mk\u001b[0m\u001b[0;34m,\u001b[0m \u001b[0ma\u001b[0m\u001b[0;34m,\u001b[0m \u001b[0mb\u001b[0m\u001b[0;34m,\u001b[0m \u001b[0mi\u001b[0m\u001b[0;34m,\u001b[0m \u001b[0mcd\u001b[0m\u001b[0;34m,\u001b[0m \u001b[0mvb\u001b[0m\u001b[0;34m)\u001b[0m\u001b[0;34m\u001b[0m\u001b[0;34m\u001b[0m\u001b[0m\n\u001b[0m\u001b[1;32m    197\u001b[0m \u001b[0mprint\u001b[0m\u001b[0;34m(\u001b[0m\u001b[0mresult\u001b[0m\u001b[0;34m)\u001b[0m\u001b[0;34m\u001b[0m\u001b[0;34m\u001b[0m\u001b[0m\n",
            "\u001b[0;32m<ipython-input-7-5c55b35c76c0>\u001b[0m in \u001b[0;36mcalculate_design_parameters\u001b[0;34m(QMD, QmD, Q, Qrio, ancho_rio, ancho_presa, perdida_aduc, regilla, l, n, BL, bl, k, a, b, i, cd, vb)\u001b[0m\n\u001b[1;32m    117\u001b[0m \u001b[0;34m\u001b[0m\u001b[0m\n\u001b[1;32m    118\u001b[0m     \u001b[0;31m# Calculate hv\u001b[0m\u001b[0;34m\u001b[0m\u001b[0;34m\u001b[0m\u001b[0m\n\u001b[0;32m--> 119\u001b[0;31m     \u001b[0mhv\u001b[0m \u001b[0;34m=\u001b[0m \u001b[0;34m(\u001b[0m\u001b[0mQexc\u001b[0m \u001b[0;34m/\u001b[0m \u001b[0;34m(\u001b[0m\u001b[0;36m1.84\u001b[0m \u001b[0;34m*\u001b[0m \u001b[0mLong_vetedero\u001b[0m\u001b[0;34m)\u001b[0m\u001b[0;34m)\u001b[0m \u001b[0;34m**\u001b[0m \u001b[0;34m(\u001b[0m\u001b[0;36m2\u001b[0m \u001b[0;34m/\u001b[0m \u001b[0;36m3\u001b[0m\u001b[0;34m)\u001b[0m\u001b[0;34m\u001b[0m\u001b[0;34m\u001b[0m\u001b[0m\n\u001b[0m\u001b[1;32m    120\u001b[0m     \u001b[0mhv\u001b[0m \u001b[0;34m=\u001b[0m \u001b[0mmath\u001b[0m\u001b[0;34m.\u001b[0m\u001b[0mceil\u001b[0m\u001b[0;34m(\u001b[0m\u001b[0mhv\u001b[0m \u001b[0;34m*\u001b[0m \u001b[0;36m100\u001b[0m\u001b[0;34m)\u001b[0m \u001b[0;34m/\u001b[0m \u001b[0;36m100\u001b[0m\u001b[0;34m\u001b[0m\u001b[0;34m\u001b[0m\u001b[0m\n\u001b[1;32m    121\u001b[0m \u001b[0;34m\u001b[0m\u001b[0m\n",
            "\u001b[0;31mNameError\u001b[0m: name 'Long_vetedero' is not defined"
          ]
        }
      ]
    }
  ]
}